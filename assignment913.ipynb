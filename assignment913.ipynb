{
 "cells": [
  {
   "cell_type": "markdown",
   "id": "bd46ddbb",
   "metadata": {},
   "source": [
    "<center><H1>Assignment 1</H1></center>\n",
    "<H4>Create a Python program in Jupyter Notebook to track your learning progress per week throughout the month (You don’t have to do it by day anymore just to keep it simple). </H4>\n",
    "<p>The program should include the following features:\n",
    "<p>Input function for entering data into a dictionary.\n",
    "<p>Data to be captured include: Week of the Month (Assuming 4 weeks in total from week 1 to week 4), Total Hrs Spent Per Week, Task Name\n",
    "<p>Append the dictionary into a list and store the result (i.e. a list of dictionaries) into a CSV file by using a Pandas DataFrame.\n",
    "<p>Retrieve the CSV file into a Pandas DataFrame and create a line chart depicting the number of hours spent on different tasks and compute the weekly average hours spent on the tasks.\n",
    "<p>Thus, you should have one plotted line for each task and a plotted line for the average.\n",
    "<p>For simplicity, use no more than three to four tasks.\n",
    "<p>Upload the finished assignment in Jupyter Notebook together with the CSV files (any module file created is optional but higher marks will be given to submitted assignments with demonstrated use of functions) to your Github repository inside a folder called “assignment_1”.</p>"
   ]
  },
  {
   "cell_type": "code",
   "execution_count": 18,
   "id": "8a5085bf",
   "metadata": {
    "scrolled": true
   },
   "outputs": [
    {
     "name": "stdout",
     "output_type": "stream",
     "text": [
      "Enter the hours spending on python in Week1.5\n",
      "Enter the hours spending on python in Week2.6\n",
      "Enter the hours spending on python in Week3.8\n",
      "Enter the hours spending on python in Week4.9\n",
      "Enter the hours spending on sql in Week1.3\n",
      "Enter the hours spending on sql in Week2.6\n",
      "Enter the hours spending on sql in Week3.9\n",
      "Enter the hours spending on sql in Week4.8\n",
      "Enter the hours spending on data analysis in Week1.4\n",
      "Enter the hours spending on data analysis in Week2.6\n",
      "Enter the hours spending on data analysis in Week3.5\n",
      "Enter the hours spending on data analysis in Week4.7\n",
      "[{'Task Name': 'python', 'First Week': '5', 'Second Week': '6', 'Third Week': '8', 'Fourth Week': '9'}, {'Task Name': 'sql', 'First Week': '3', 'Second Week': '6', 'Third Week': '9', 'Fourth Week': '8'}, {'Task Name': 'data analysis', 'First Week': '4', 'Second Week': '6', 'Third Week': '5', 'Fourth Week': '7'}]\n"
     ]
    },
    {
     "data": {
      "text/html": [
       "<div>\n",
       "<style scoped>\n",
       "    .dataframe tbody tr th:only-of-type {\n",
       "        vertical-align: middle;\n",
       "    }\n",
       "\n",
       "    .dataframe tbody tr th {\n",
       "        vertical-align: top;\n",
       "    }\n",
       "\n",
       "    .dataframe thead th {\n",
       "        text-align: right;\n",
       "    }\n",
       "</style>\n",
       "<table border=\"1\" class=\"dataframe\">\n",
       "  <thead>\n",
       "    <tr style=\"text-align: right;\">\n",
       "      <th></th>\n",
       "      <th>Task Name</th>\n",
       "      <th>First Week</th>\n",
       "      <th>Second Week</th>\n",
       "      <th>Third Week</th>\n",
       "      <th>Fourth Week</th>\n",
       "    </tr>\n",
       "  </thead>\n",
       "  <tbody>\n",
       "    <tr>\n",
       "      <th>0</th>\n",
       "      <td>python</td>\n",
       "      <td>5</td>\n",
       "      <td>6</td>\n",
       "      <td>8</td>\n",
       "      <td>9</td>\n",
       "    </tr>\n",
       "    <tr>\n",
       "      <th>1</th>\n",
       "      <td>sql</td>\n",
       "      <td>3</td>\n",
       "      <td>6</td>\n",
       "      <td>9</td>\n",
       "      <td>8</td>\n",
       "    </tr>\n",
       "    <tr>\n",
       "      <th>2</th>\n",
       "      <td>data analysis</td>\n",
       "      <td>4</td>\n",
       "      <td>6</td>\n",
       "      <td>5</td>\n",
       "      <td>7</td>\n",
       "    </tr>\n",
       "  </tbody>\n",
       "</table>\n",
       "</div>"
      ],
      "text/plain": [
       "       Task Name First Week Second Week Third Week Fourth Week\n",
       "0         python          5           6          8           9\n",
       "1            sql          3           6          9           8\n",
       "2  data analysis          4           6          5           7"
      ]
     },
     "execution_count": 18,
     "metadata": {},
     "output_type": "execute_result"
    }
   ],
   "source": [
    "import pandas as pd\n",
    "learning_plan=[]\n",
    "task_name=[\"python\",\"sql\",\"data analysis\"]\n",
    "for i in task_name:\n",
    "    week1=input(\"Enter the hours spending on \"+i+\" in Week1.\")\n",
    "    week2=input(\"Enter the hours spending on \"+i+\" in Week2.\")\n",
    "    week3=input(\"Enter the hours spending on \"+i+\" in Week3.\")\n",
    "    week4=input(\"Enter the hours spending on \"+i+\" in Week4.\")\n",
    "    learning_plan.append({'Task Name':i,'First Week':week1,'Second Week':week2,'Third Week':week3,'Fourth Week':week4,})\n",
    "print(learning_plan)\n",
    "df=pd.DataFrame(learning_plan)\n",
    "df\n",
    "df.to_csv('learning_plan.csv',mode='w',index=False)\n",
    "df"
   ]
  },
  {
   "cell_type": "code",
   "execution_count": 21,
   "id": "c0b04068",
   "metadata": {
    "scrolled": true
   },
   "outputs": [
    {
     "data": {
      "image/png": "[encoded data removed]",
      "text/plain": [
       "<Figure size 432x288 with 1 Axes>"
      ]
     },
     "metadata": {
      "needs_background": "light"
     },
     "output_type": "display_data"
    }
   ],
   "source": [
    "import pandas as pd\n",
    "from matplotlib import pyplot as plt\n",
    "from numpy import *\n",
    "df=pd.read_csv('learning_plan.csv')\n",
    "df\n",
    "plan_list=df.values.tolist()\n",
    "#convert dictionary into list\n",
    "weekone=[]\n",
    "weektwo=[]\n",
    "weekthree=[]\n",
    "weekfour=[]\n",
    "for i in plan_list:\n",
    "    del i[0]\n",
    "    weekone.append(i[0])\n",
    "    weektwo.append(i[1])\n",
    "    weekthree.append(i[2])\n",
    "    weekfour.append(i[3])\n",
    "avg=[mean(weekone),mean(weektwo),mean(weekthree),mean(weekfour)]\n",
    "#avg hrs per week\n",
    "python=plan_list[0]\n",
    "sql=plan_list[1]\n",
    "data=plan_list[2]\n",
    "#now draw the line chart\n",
    "Week = ['Week1', 'Week2', \"Week3\", \"Week4\"]\n",
    "plt.plot(Week, python, color='blue',marker='s')\n",
    "plt.plot(Week, sql, color='purple',marker='s')\n",
    "plt.plot(Week, data, color='green',marker='s')\n",
    "plt.plot(Week, avg, color='black',linestyle='--')\n",
    "plt.legend(['python','sql','data','avg']) \n",
    "plt.xlabel(\"Date\")\n",
    "plt.ylabel(\"Hrs\")\n",
    "plt.title('Learning Plan')\n",
    "plt.show()"
   ]
  },
  {
   "cell_type": "code",
   "execution_count": 2,
   "id": "c5b33da2",
   "metadata": {},
   "outputs": [
    {
     "name": "stdout",
     "output_type": "stream",
     "text": [
      "Enter the hours spending on week1 on python learning.6\n",
      "Enter the hours spending on week1 on sql learning.8\n",
      "Enter the hours spending on week1 on data analysis.9\n",
      "Enter the hours spending on week2 on python learning.4\n",
      "Enter the hours spending on week2 on sql learning.7\n",
      "Enter the hours spending on week2 on data analysis.8\n",
      "Enter the hours spending on week3 on python learning.5\n",
      "Enter the hours spending on week3 on sql learning.9\n",
      "Enter the hours spending on week3 on data analysis.4\n",
      "Enter the hours spending on week4 on python learning.9\n",
      "Enter the hours spending on week4 on sql learning.6\n",
      "Enter the hours spending on week4 on data analysis.5\n",
      "[{'Date': 'week1', 'Python': '6', 'SQL': '8', 'Data Analysis': '9'}, {'Date': 'week2', 'Python': '4', 'SQL': '7', 'Data Analysis': '8'}, {'Date': 'week3', 'Python': '5', 'SQL': '9', 'Data Analysis': '4'}, {'Date': 'week4', 'Python': '9', 'SQL': '6', 'Data Analysis': '5'}]\n"
     ]
    },
    {
     "data": {
      "text/html": [
       "<div>\n",
       "<style scoped>\n",
       "    .dataframe tbody tr th:only-of-type {\n",
       "        vertical-align: middle;\n",
       "    }\n",
       "\n",
       "    .dataframe tbody tr th {\n",
       "        vertical-align: top;\n",
       "    }\n",
       "\n",
       "    .dataframe thead th {\n",
       "        text-align: right;\n",
       "    }\n",
       "</style>\n",
       "<table border=\"1\" class=\"dataframe\">\n",
       "  <thead>\n",
       "    <tr style=\"text-align: right;\">\n",
       "      <th></th>\n",
       "      <th>Date</th>\n",
       "      <th>Python</th>\n",
       "      <th>SQL</th>\n",
       "      <th>Data Analysis</th>\n",
       "    </tr>\n",
       "  </thead>\n",
       "  <tbody>\n",
       "    <tr>\n",
       "      <th>0</th>\n",
       "      <td>week1</td>\n",
       "      <td>6</td>\n",
       "      <td>8</td>\n",
       "      <td>9</td>\n",
       "    </tr>\n",
       "    <tr>\n",
       "      <th>1</th>\n",
       "      <td>week2</td>\n",
       "      <td>4</td>\n",
       "      <td>7</td>\n",
       "      <td>8</td>\n",
       "    </tr>\n",
       "    <tr>\n",
       "      <th>2</th>\n",
       "      <td>week3</td>\n",
       "      <td>5</td>\n",
       "      <td>9</td>\n",
       "      <td>4</td>\n",
       "    </tr>\n",
       "    <tr>\n",
       "      <th>3</th>\n",
       "      <td>week4</td>\n",
       "      <td>9</td>\n",
       "      <td>6</td>\n",
       "      <td>5</td>\n",
       "    </tr>\n",
       "  </tbody>\n",
       "</table>\n",
       "</div>"
      ],
      "text/plain": [
       "    Date Python SQL Data Analysis\n",
       "0  week1      6   8             9\n",
       "1  week2      4   7             8\n",
       "2  week3      5   9             4\n",
       "3  week4      9   6             5"
      ]
     },
     "execution_count": 2,
     "metadata": {},
     "output_type": "execute_result"
    }
   ],
   "source": [
    "#my another version\n",
    "import pandas as pd\n",
    "learning_plan=[]\n",
    "date=[\"week1\",\"week2\",\"week3\",\"week4\"]\n",
    "for i in date:\n",
    "    python_learning=input(\"Enter the hours spending on \"+i+\" on python learning.\")\n",
    "    sql_learning=input(\"Enter the hours spending on \"+i+\" on sql learning.\")\n",
    "    data_learning=input(\"Enter the hours spending on \"+i+\" on data analysis.\")\n",
    "    learning_plan.append({'Date':i,'Python':python_learning,'SQL':sql_learning,'Data Analysis':data_learning})\n",
    "print(learning_plan)\n",
    "df=pd.DataFrame(learning_plan)\n",
    "df\n",
    "df.to_csv('learning_plan2.csv',mode='w',index=False)\n",
    "df"
   ]
  },
  {
   "cell_type": "code",
   "execution_count": 19,
   "id": "591e297e",
   "metadata": {},
   "outputs": [
    {
     "data": {
      "image/png": "[encoded data removed]",
      "text/plain": [
       "<Figure size 432x288 with 1 Axes>"
      ]
     },
     "metadata": {
      "needs_background": "light"
     },
     "output_type": "display_data"
    }
   ],
   "source": [
    "import pandas as pd\n",
    "from matplotlib import pyplot as plt\n",
    "from numpy import *\n",
    "df=pd.read_csv('learning_plan2.csv')\n",
    "df\n",
    "plan_list=df.values.tolist()\n",
    "date=[]\n",
    "python=[]\n",
    "sql=[]\n",
    "data=[]\n",
    "for i in plan_list:\n",
    "    date.append(i[0])\n",
    "    python.append(i[1])\n",
    "    sql.append(i[2])\n",
    "    data.append(i[3])\n",
    "    del i[0]\n",
    "avg=[mean(plan_list[0]),mean(plan_list[1]),mean(plan_list[2]),mean(plan_list[3])]\n",
    "plt.plot(date, python, color='blue',marker='s')\n",
    "plt.plot(date, sql, color='purple',marker='s')\n",
    "plt.plot(date, data, color='green',marker='s')\n",
    "plt.plot(date, avg, color='black',linestyle='--')\n",
    "plt.legend(['python','sql','data','avg']) \n",
    "plt.xlabel(\"Date\")\n",
    "plt.ylabel(\"Hrs\")\n",
    "plt.title('Learning Plan')\n",
    "plt.show()"
   ]
  },
  {
   "cell_type": "code",
   "execution_count": null,
   "id": "c322fab6",
   "metadata": {},
   "outputs": [],
   "source": []
  }
 ],
 "metadata": {
  "kernelspec": {
   "display_name": "Python 3",
   "language": "python",
   "name": "python3"
  },
  "language_info": {
   "codemirror_mode": {
    "name": "ipython",
    "version": 3
   },
   "file_extension": ".py",
   "mimetype": "text/x-python",
   "name": "python",
   "nbconvert_exporter": "python",
   "pygments_lexer": "ipython3",
   "version": "3.8.8"
  }
 },
 "nbformat": 4,
 "nbformat_minor": 5
}
